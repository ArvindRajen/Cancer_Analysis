{
  "nbformat": 4,
  "nbformat_minor": 0,
  "metadata": {
    "kernelspec": {
      "display_name": "Python 3",
      "language": "python",
      "name": "python3"
    },
    "language_info": {
      "name": "python",
      "version": "3.6.6",
      "mimetype": "text/x-python",
      "codemirror_mode": {
        "name": "ipython",
        "version": 3
      },
      "pygments_lexer": "ipython3",
      "nbconvert_exporter": "python",
      "file_extension": ".py"
    },
    "colab": {
      "name": "prostate-cancer-predictions-with-ml-and-dl-methods.ipynb",
      "provenance": [],
      "include_colab_link": true
    }
  },
  "cells": [
    {
      "cell_type": "markdown",
      "metadata": {
        "id": "view-in-github",
        "colab_type": "text"
      },
      "source": [
        "<a href=\"https://colab.research.google.com/github/ArvindRajen/Cancer_Analysis/blob/main/prostate_cancer_predictions_with_ml_and_dl_methods.ipynb\" target=\"_parent\"><img src=\"https://colab.research.google.com/assets/colab-badge.svg\" alt=\"Open In Colab\"/></a>"
      ]
    },
    {
      "cell_type": "markdown",
      "metadata": {
        "_uuid": "a679995615a32bdd09f5213d70b25820aff0f2e5",
        "id": "cOxS9syq3x1k"
      },
      "source": [
        "#**INTRODUCTION**\n",
        "\n",
        "I'll train Prostate Cancer data with some machine learning and deep learning methods. \n",
        "\n",
        "* EDA (Exploratory Data Analysis)\n",
        "* Data Preprocessing (Scaling, Reshaping)\n",
        "* Test-Train Dataset Split\n",
        "* Logistic Regression Classification\n",
        "* KNN Classification\n",
        "* Support Vector Machine (SVM) Classification\n",
        "* Naive Bayes Classification\n",
        "* Desicion Tree Classification\n",
        "* Random Forest Classification\n",
        "* Artificial Neural Network\n",
        "* Recurrent Neural Network\n",
        "* Compare all of these Classification Models\n",
        "* Conclusion"
      ]
    },
    {
      "cell_type": "code",
      "metadata": {
        "_uuid": "8f2839f25d086af736a60e9eeb907d3b93b6e0e5",
        "_cell_guid": "b1076dfc-b9ad-4769-8c92-a6c4dae69d19",
        "trusted": true,
        "id": "40Rb7Lma3x1m"
      },
      "source": [
        "import numpy as np \n",
        "import pandas as pd \n",
        "import matplotlib.pyplot as plt\n",
        "import seaborn as sns\n",
        "from sklearn.metrics import confusion_matrix"
      ],
      "execution_count": 2,
      "outputs": []
    },
    {
      "cell_type": "code",
      "metadata": {
        "_cell_guid": "79c7e3d0-c299-4dcb-8224-4455121ee9b0",
        "_uuid": "d629ff2d2480ee46fbb7e2d37f6b5fab8052498a",
        "trusted": true,
        "id": "GtFZz-sy3x1w"
      },
      "source": [
        "Cancer = pd.read_csv(\"/content/Prostate_Cancer.csv\")"
      ],
      "execution_count": 3,
      "outputs": []
    },
    {
      "cell_type": "code",
      "metadata": {
        "trusted": true,
        "_uuid": "5e5558aa7e42975c3cb3bb5be8fcdf63d2b8d75e",
        "id": "aFX60X6a3x14",
        "outputId": "995cea1c-db9b-4358-c786-50e9131dbaa9",
        "colab": {
          "base_uri": "https://localhost:8080/",
          "height": 335
        }
      },
      "source": [
        "Cancer.info()"
      ],
      "execution_count": 4,
      "outputs": [
        {
          "output_type": "stream",
          "text": [
            "<class 'pandas.core.frame.DataFrame'>\n",
            "RangeIndex: 100 entries, 0 to 99\n",
            "Data columns (total 10 columns):\n",
            " #   Column             Non-Null Count  Dtype  \n",
            "---  ------             --------------  -----  \n",
            " 0   id                 100 non-null    int64  \n",
            " 1   diagnosis_result   100 non-null    object \n",
            " 2   radius             100 non-null    int64  \n",
            " 3   texture            100 non-null    int64  \n",
            " 4   perimeter          100 non-null    int64  \n",
            " 5   area               100 non-null    int64  \n",
            " 6   smoothness         100 non-null    float64\n",
            " 7   compactness        100 non-null    float64\n",
            " 8   symmetry           100 non-null    float64\n",
            " 9   fractal_dimension  100 non-null    float64\n",
            "dtypes: float64(4), int64(5), object(1)\n",
            "memory usage: 7.9+ KB\n"
          ],
          "name": "stdout"
        }
      ]
    },
    {
      "cell_type": "code",
      "metadata": {
        "trusted": true,
        "_uuid": "73f8fc7a937835b320251278256f0d26d79706b2",
        "id": "hmgSu5B83x2A",
        "outputId": "b75ccbe7-da20-4c39-d169-382459f19291",
        "colab": {
          "base_uri": "https://localhost:8080/",
          "height": 363
        }
      },
      "source": [
        "Cancer.head(10)"
      ],
      "execution_count": 5,
      "outputs": [
        {
          "output_type": "execute_result",
          "data": {
            "text/html": [
              "<div>\n",
              "<style scoped>\n",
              "    .dataframe tbody tr th:only-of-type {\n",
              "        vertical-align: middle;\n",
              "    }\n",
              "\n",
              "    .dataframe tbody tr th {\n",
              "        vertical-align: top;\n",
              "    }\n",
              "\n",
              "    .dataframe thead th {\n",
              "        text-align: right;\n",
              "    }\n",
              "</style>\n",
              "<table border=\"1\" class=\"dataframe\">\n",
              "  <thead>\n",
              "    <tr style=\"text-align: right;\">\n",
              "      <th></th>\n",
              "      <th>id</th>\n",
              "      <th>diagnosis_result</th>\n",
              "      <th>radius</th>\n",
              "      <th>texture</th>\n",
              "      <th>perimeter</th>\n",
              "      <th>area</th>\n",
              "      <th>smoothness</th>\n",
              "      <th>compactness</th>\n",
              "      <th>symmetry</th>\n",
              "      <th>fractal_dimension</th>\n",
              "    </tr>\n",
              "  </thead>\n",
              "  <tbody>\n",
              "    <tr>\n",
              "      <th>0</th>\n",
              "      <td>1</td>\n",
              "      <td>M</td>\n",
              "      <td>23</td>\n",
              "      <td>12</td>\n",
              "      <td>151</td>\n",
              "      <td>954</td>\n",
              "      <td>0.143</td>\n",
              "      <td>0.278</td>\n",
              "      <td>0.242</td>\n",
              "      <td>0.079</td>\n",
              "    </tr>\n",
              "    <tr>\n",
              "      <th>1</th>\n",
              "      <td>2</td>\n",
              "      <td>B</td>\n",
              "      <td>9</td>\n",
              "      <td>13</td>\n",
              "      <td>133</td>\n",
              "      <td>1326</td>\n",
              "      <td>0.143</td>\n",
              "      <td>0.079</td>\n",
              "      <td>0.181</td>\n",
              "      <td>0.057</td>\n",
              "    </tr>\n",
              "    <tr>\n",
              "      <th>2</th>\n",
              "      <td>3</td>\n",
              "      <td>M</td>\n",
              "      <td>21</td>\n",
              "      <td>27</td>\n",
              "      <td>130</td>\n",
              "      <td>1203</td>\n",
              "      <td>0.125</td>\n",
              "      <td>0.160</td>\n",
              "      <td>0.207</td>\n",
              "      <td>0.060</td>\n",
              "    </tr>\n",
              "    <tr>\n",
              "      <th>3</th>\n",
              "      <td>4</td>\n",
              "      <td>M</td>\n",
              "      <td>14</td>\n",
              "      <td>16</td>\n",
              "      <td>78</td>\n",
              "      <td>386</td>\n",
              "      <td>0.070</td>\n",
              "      <td>0.284</td>\n",
              "      <td>0.260</td>\n",
              "      <td>0.097</td>\n",
              "    </tr>\n",
              "    <tr>\n",
              "      <th>4</th>\n",
              "      <td>5</td>\n",
              "      <td>M</td>\n",
              "      <td>9</td>\n",
              "      <td>19</td>\n",
              "      <td>135</td>\n",
              "      <td>1297</td>\n",
              "      <td>0.141</td>\n",
              "      <td>0.133</td>\n",
              "      <td>0.181</td>\n",
              "      <td>0.059</td>\n",
              "    </tr>\n",
              "    <tr>\n",
              "      <th>5</th>\n",
              "      <td>6</td>\n",
              "      <td>B</td>\n",
              "      <td>25</td>\n",
              "      <td>25</td>\n",
              "      <td>83</td>\n",
              "      <td>477</td>\n",
              "      <td>0.128</td>\n",
              "      <td>0.170</td>\n",
              "      <td>0.209</td>\n",
              "      <td>0.076</td>\n",
              "    </tr>\n",
              "    <tr>\n",
              "      <th>6</th>\n",
              "      <td>7</td>\n",
              "      <td>M</td>\n",
              "      <td>16</td>\n",
              "      <td>26</td>\n",
              "      <td>120</td>\n",
              "      <td>1040</td>\n",
              "      <td>0.095</td>\n",
              "      <td>0.109</td>\n",
              "      <td>0.179</td>\n",
              "      <td>0.057</td>\n",
              "    </tr>\n",
              "    <tr>\n",
              "      <th>7</th>\n",
              "      <td>8</td>\n",
              "      <td>M</td>\n",
              "      <td>15</td>\n",
              "      <td>18</td>\n",
              "      <td>90</td>\n",
              "      <td>578</td>\n",
              "      <td>0.119</td>\n",
              "      <td>0.165</td>\n",
              "      <td>0.220</td>\n",
              "      <td>0.075</td>\n",
              "    </tr>\n",
              "    <tr>\n",
              "      <th>8</th>\n",
              "      <td>9</td>\n",
              "      <td>M</td>\n",
              "      <td>19</td>\n",
              "      <td>24</td>\n",
              "      <td>88</td>\n",
              "      <td>520</td>\n",
              "      <td>0.127</td>\n",
              "      <td>0.193</td>\n",
              "      <td>0.235</td>\n",
              "      <td>0.074</td>\n",
              "    </tr>\n",
              "    <tr>\n",
              "      <th>9</th>\n",
              "      <td>10</td>\n",
              "      <td>M</td>\n",
              "      <td>25</td>\n",
              "      <td>11</td>\n",
              "      <td>84</td>\n",
              "      <td>476</td>\n",
              "      <td>0.119</td>\n",
              "      <td>0.240</td>\n",
              "      <td>0.203</td>\n",
              "      <td>0.082</td>\n",
              "    </tr>\n",
              "  </tbody>\n",
              "</table>\n",
              "</div>"
            ],
            "text/plain": [
              "   id diagnosis_result  radius  ...  compactness  symmetry  fractal_dimension\n",
              "0   1                M      23  ...        0.278     0.242              0.079\n",
              "1   2                B       9  ...        0.079     0.181              0.057\n",
              "2   3                M      21  ...        0.160     0.207              0.060\n",
              "3   4                M      14  ...        0.284     0.260              0.097\n",
              "4   5                M       9  ...        0.133     0.181              0.059\n",
              "5   6                B      25  ...        0.170     0.209              0.076\n",
              "6   7                M      16  ...        0.109     0.179              0.057\n",
              "7   8                M      15  ...        0.165     0.220              0.075\n",
              "8   9                M      19  ...        0.193     0.235              0.074\n",
              "9  10                M      25  ...        0.240     0.203              0.082\n",
              "\n",
              "[10 rows x 10 columns]"
            ]
          },
          "metadata": {
            "tags": []
          },
          "execution_count": 5
        }
      ]
    },
    {
      "cell_type": "code",
      "metadata": {
        "trusted": true,
        "_uuid": "7f605aa194d543d468d79491735e5f66581839fd",
        "id": "eVyIdna43x2F",
        "outputId": "c1927ccf-11e1-43ab-9730-a70e85323c8e",
        "colab": {
          "base_uri": "https://localhost:8080/",
          "height": 206
        }
      },
      "source": [
        "Cancer.tail()"
      ],
      "execution_count": 6,
      "outputs": [
        {
          "output_type": "execute_result",
          "data": {
            "text/html": [
              "<div>\n",
              "<style scoped>\n",
              "    .dataframe tbody tr th:only-of-type {\n",
              "        vertical-align: middle;\n",
              "    }\n",
              "\n",
              "    .dataframe tbody tr th {\n",
              "        vertical-align: top;\n",
              "    }\n",
              "\n",
              "    .dataframe thead th {\n",
              "        text-align: right;\n",
              "    }\n",
              "</style>\n",
              "<table border=\"1\" class=\"dataframe\">\n",
              "  <thead>\n",
              "    <tr style=\"text-align: right;\">\n",
              "      <th></th>\n",
              "      <th>id</th>\n",
              "      <th>diagnosis_result</th>\n",
              "      <th>radius</th>\n",
              "      <th>texture</th>\n",
              "      <th>perimeter</th>\n",
              "      <th>area</th>\n",
              "      <th>smoothness</th>\n",
              "      <th>compactness</th>\n",
              "      <th>symmetry</th>\n",
              "      <th>fractal_dimension</th>\n",
              "    </tr>\n",
              "  </thead>\n",
              "  <tbody>\n",
              "    <tr>\n",
              "      <th>95</th>\n",
              "      <td>96</td>\n",
              "      <td>M</td>\n",
              "      <td>23</td>\n",
              "      <td>16</td>\n",
              "      <td>132</td>\n",
              "      <td>1264</td>\n",
              "      <td>0.091</td>\n",
              "      <td>0.131</td>\n",
              "      <td>0.210</td>\n",
              "      <td>0.056</td>\n",
              "    </tr>\n",
              "    <tr>\n",
              "      <th>96</th>\n",
              "      <td>97</td>\n",
              "      <td>B</td>\n",
              "      <td>22</td>\n",
              "      <td>14</td>\n",
              "      <td>78</td>\n",
              "      <td>451</td>\n",
              "      <td>0.105</td>\n",
              "      <td>0.071</td>\n",
              "      <td>0.190</td>\n",
              "      <td>0.066</td>\n",
              "    </tr>\n",
              "    <tr>\n",
              "      <th>97</th>\n",
              "      <td>98</td>\n",
              "      <td>B</td>\n",
              "      <td>19</td>\n",
              "      <td>27</td>\n",
              "      <td>62</td>\n",
              "      <td>295</td>\n",
              "      <td>0.102</td>\n",
              "      <td>0.053</td>\n",
              "      <td>0.135</td>\n",
              "      <td>0.069</td>\n",
              "    </tr>\n",
              "    <tr>\n",
              "      <th>98</th>\n",
              "      <td>99</td>\n",
              "      <td>B</td>\n",
              "      <td>21</td>\n",
              "      <td>24</td>\n",
              "      <td>74</td>\n",
              "      <td>413</td>\n",
              "      <td>0.090</td>\n",
              "      <td>0.075</td>\n",
              "      <td>0.162</td>\n",
              "      <td>0.066</td>\n",
              "    </tr>\n",
              "    <tr>\n",
              "      <th>99</th>\n",
              "      <td>100</td>\n",
              "      <td>M</td>\n",
              "      <td>16</td>\n",
              "      <td>27</td>\n",
              "      <td>94</td>\n",
              "      <td>643</td>\n",
              "      <td>0.098</td>\n",
              "      <td>0.114</td>\n",
              "      <td>0.188</td>\n",
              "      <td>0.064</td>\n",
              "    </tr>\n",
              "  </tbody>\n",
              "</table>\n",
              "</div>"
            ],
            "text/plain": [
              "     id diagnosis_result  radius  ...  compactness  symmetry  fractal_dimension\n",
              "95   96                M      23  ...        0.131     0.210              0.056\n",
              "96   97                B      22  ...        0.071     0.190              0.066\n",
              "97   98                B      19  ...        0.053     0.135              0.069\n",
              "98   99                B      21  ...        0.075     0.162              0.066\n",
              "99  100                M      16  ...        0.114     0.188              0.064\n",
              "\n",
              "[5 rows x 10 columns]"
            ]
          },
          "metadata": {
            "tags": []
          },
          "execution_count": 6
        }
      ]
    },
    {
      "cell_type": "code",
      "metadata": {
        "trusted": true,
        "_uuid": "0dea2bf6bf39c45d21f4528fb0981c579899a63d",
        "id": "f3L5ddwZ3x2K",
        "outputId": "2d4cf26f-364c-496f-adf9-f291a58c9db9",
        "colab": {
          "base_uri": "https://localhost:8080/",
          "height": 300
        }
      },
      "source": [
        "Cancer.describe()"
      ],
      "execution_count": 8,
      "outputs": [
        {
          "output_type": "execute_result",
          "data": {
            "text/html": [
              "<div>\n",
              "<style scoped>\n",
              "    .dataframe tbody tr th:only-of-type {\n",
              "        vertical-align: middle;\n",
              "    }\n",
              "\n",
              "    .dataframe tbody tr th {\n",
              "        vertical-align: top;\n",
              "    }\n",
              "\n",
              "    .dataframe thead th {\n",
              "        text-align: right;\n",
              "    }\n",
              "</style>\n",
              "<table border=\"1\" class=\"dataframe\">\n",
              "  <thead>\n",
              "    <tr style=\"text-align: right;\">\n",
              "      <th></th>\n",
              "      <th>id</th>\n",
              "      <th>radius</th>\n",
              "      <th>texture</th>\n",
              "      <th>perimeter</th>\n",
              "      <th>area</th>\n",
              "      <th>smoothness</th>\n",
              "      <th>compactness</th>\n",
              "      <th>symmetry</th>\n",
              "      <th>fractal_dimension</th>\n",
              "    </tr>\n",
              "  </thead>\n",
              "  <tbody>\n",
              "    <tr>\n",
              "      <th>count</th>\n",
              "      <td>100.000000</td>\n",
              "      <td>100.000000</td>\n",
              "      <td>100.000000</td>\n",
              "      <td>100.000000</td>\n",
              "      <td>100.000000</td>\n",
              "      <td>100.000000</td>\n",
              "      <td>100.000000</td>\n",
              "      <td>100.000000</td>\n",
              "      <td>100.000000</td>\n",
              "    </tr>\n",
              "    <tr>\n",
              "      <th>mean</th>\n",
              "      <td>50.500000</td>\n",
              "      <td>16.850000</td>\n",
              "      <td>18.230000</td>\n",
              "      <td>96.780000</td>\n",
              "      <td>702.880000</td>\n",
              "      <td>0.102730</td>\n",
              "      <td>0.126700</td>\n",
              "      <td>0.193170</td>\n",
              "      <td>0.064690</td>\n",
              "    </tr>\n",
              "    <tr>\n",
              "      <th>std</th>\n",
              "      <td>29.011492</td>\n",
              "      <td>4.879094</td>\n",
              "      <td>5.192954</td>\n",
              "      <td>23.676089</td>\n",
              "      <td>319.710895</td>\n",
              "      <td>0.014642</td>\n",
              "      <td>0.061144</td>\n",
              "      <td>0.030785</td>\n",
              "      <td>0.008151</td>\n",
              "    </tr>\n",
              "    <tr>\n",
              "      <th>min</th>\n",
              "      <td>1.000000</td>\n",
              "      <td>9.000000</td>\n",
              "      <td>11.000000</td>\n",
              "      <td>52.000000</td>\n",
              "      <td>202.000000</td>\n",
              "      <td>0.070000</td>\n",
              "      <td>0.038000</td>\n",
              "      <td>0.135000</td>\n",
              "      <td>0.053000</td>\n",
              "    </tr>\n",
              "    <tr>\n",
              "      <th>25%</th>\n",
              "      <td>25.750000</td>\n",
              "      <td>12.000000</td>\n",
              "      <td>14.000000</td>\n",
              "      <td>82.500000</td>\n",
              "      <td>476.750000</td>\n",
              "      <td>0.093500</td>\n",
              "      <td>0.080500</td>\n",
              "      <td>0.172000</td>\n",
              "      <td>0.059000</td>\n",
              "    </tr>\n",
              "    <tr>\n",
              "      <th>50%</th>\n",
              "      <td>50.500000</td>\n",
              "      <td>17.000000</td>\n",
              "      <td>17.500000</td>\n",
              "      <td>94.000000</td>\n",
              "      <td>644.000000</td>\n",
              "      <td>0.102000</td>\n",
              "      <td>0.118500</td>\n",
              "      <td>0.190000</td>\n",
              "      <td>0.063000</td>\n",
              "    </tr>\n",
              "    <tr>\n",
              "      <th>75%</th>\n",
              "      <td>75.250000</td>\n",
              "      <td>21.000000</td>\n",
              "      <td>22.250000</td>\n",
              "      <td>114.250000</td>\n",
              "      <td>917.000000</td>\n",
              "      <td>0.112000</td>\n",
              "      <td>0.157000</td>\n",
              "      <td>0.209000</td>\n",
              "      <td>0.069000</td>\n",
              "    </tr>\n",
              "    <tr>\n",
              "      <th>max</th>\n",
              "      <td>100.000000</td>\n",
              "      <td>25.000000</td>\n",
              "      <td>27.000000</td>\n",
              "      <td>172.000000</td>\n",
              "      <td>1878.000000</td>\n",
              "      <td>0.143000</td>\n",
              "      <td>0.345000</td>\n",
              "      <td>0.304000</td>\n",
              "      <td>0.097000</td>\n",
              "    </tr>\n",
              "  </tbody>\n",
              "</table>\n",
              "</div>"
            ],
            "text/plain": [
              "               id      radius  ...    symmetry  fractal_dimension\n",
              "count  100.000000  100.000000  ...  100.000000         100.000000\n",
              "mean    50.500000   16.850000  ...    0.193170           0.064690\n",
              "std     29.011492    4.879094  ...    0.030785           0.008151\n",
              "min      1.000000    9.000000  ...    0.135000           0.053000\n",
              "25%     25.750000   12.000000  ...    0.172000           0.059000\n",
              "50%     50.500000   17.000000  ...    0.190000           0.063000\n",
              "75%     75.250000   21.000000  ...    0.209000           0.069000\n",
              "max    100.000000   25.000000  ...    0.304000           0.097000\n",
              "\n",
              "[8 rows x 9 columns]"
            ]
          },
          "metadata": {
            "tags": []
          },
          "execution_count": 8
        }
      ]
    },
    {
      "cell_type": "code",
      "metadata": {
        "trusted": true,
        "_uuid": "bc63d2953223deb5d2a369185f98f1235f5a4489",
        "id": "nShpsSNi3x2R",
        "outputId": "a0e09ec9-dfc3-4515-e174-243e9095f77b",
        "colab": {
          "base_uri": "https://localhost:8080/",
          "height": 73
        }
      },
      "source": [
        "Cancer.columns"
      ],
      "execution_count": 7,
      "outputs": [
        {
          "output_type": "execute_result",
          "data": {
            "text/plain": [
              "Index(['id', 'diagnosis_result', 'radius', 'texture', 'perimeter', 'area',\n",
              "       'smoothness', 'compactness', 'symmetry', 'fractal_dimension'],\n",
              "      dtype='object')"
            ]
          },
          "metadata": {
            "tags": []
          },
          "execution_count": 7
        }
      ]
    },
    {
      "cell_type": "code",
      "metadata": {
        "trusted": true,
        "_uuid": "7f24b49bec7a5c0498d0d1687951532eb2802928",
        "id": "J_65STOu3x2V"
      },
      "source": [
        "# ID of the patients is unneccessary. So, we drop that!\n",
        "Cancer.drop(['id'],axis=1,inplace=True)"
      ],
      "execution_count": 9,
      "outputs": []
    },
    {
      "cell_type": "code",
      "metadata": {
        "trusted": true,
        "_uuid": "fea789ad3a09ca6599247903c7e15a2f8e32a253",
        "id": "VyUyJkAC3x2Y",
        "outputId": "f7834e26-d920-4158-d403-d8c8ba02df26",
        "colab": {
          "base_uri": "https://localhost:8080/",
          "height": 206
        }
      },
      "source": [
        "Cancer.head()"
      ],
      "execution_count": 10,
      "outputs": [
        {
          "output_type": "execute_result",
          "data": {
            "text/html": [
              "<div>\n",
              "<style scoped>\n",
              "    .dataframe tbody tr th:only-of-type {\n",
              "        vertical-align: middle;\n",
              "    }\n",
              "\n",
              "    .dataframe tbody tr th {\n",
              "        vertical-align: top;\n",
              "    }\n",
              "\n",
              "    .dataframe thead th {\n",
              "        text-align: right;\n",
              "    }\n",
              "</style>\n",
              "<table border=\"1\" class=\"dataframe\">\n",
              "  <thead>\n",
              "    <tr style=\"text-align: right;\">\n",
              "      <th></th>\n",
              "      <th>diagnosis_result</th>\n",
              "      <th>radius</th>\n",
              "      <th>texture</th>\n",
              "      <th>perimeter</th>\n",
              "      <th>area</th>\n",
              "      <th>smoothness</th>\n",
              "      <th>compactness</th>\n",
              "      <th>symmetry</th>\n",
              "      <th>fractal_dimension</th>\n",
              "    </tr>\n",
              "  </thead>\n",
              "  <tbody>\n",
              "    <tr>\n",
              "      <th>0</th>\n",
              "      <td>M</td>\n",
              "      <td>23</td>\n",
              "      <td>12</td>\n",
              "      <td>151</td>\n",
              "      <td>954</td>\n",
              "      <td>0.143</td>\n",
              "      <td>0.278</td>\n",
              "      <td>0.242</td>\n",
              "      <td>0.079</td>\n",
              "    </tr>\n",
              "    <tr>\n",
              "      <th>1</th>\n",
              "      <td>B</td>\n",
              "      <td>9</td>\n",
              "      <td>13</td>\n",
              "      <td>133</td>\n",
              "      <td>1326</td>\n",
              "      <td>0.143</td>\n",
              "      <td>0.079</td>\n",
              "      <td>0.181</td>\n",
              "      <td>0.057</td>\n",
              "    </tr>\n",
              "    <tr>\n",
              "      <th>2</th>\n",
              "      <td>M</td>\n",
              "      <td>21</td>\n",
              "      <td>27</td>\n",
              "      <td>130</td>\n",
              "      <td>1203</td>\n",
              "      <td>0.125</td>\n",
              "      <td>0.160</td>\n",
              "      <td>0.207</td>\n",
              "      <td>0.060</td>\n",
              "    </tr>\n",
              "    <tr>\n",
              "      <th>3</th>\n",
              "      <td>M</td>\n",
              "      <td>14</td>\n",
              "      <td>16</td>\n",
              "      <td>78</td>\n",
              "      <td>386</td>\n",
              "      <td>0.070</td>\n",
              "      <td>0.284</td>\n",
              "      <td>0.260</td>\n",
              "      <td>0.097</td>\n",
              "    </tr>\n",
              "    <tr>\n",
              "      <th>4</th>\n",
              "      <td>M</td>\n",
              "      <td>9</td>\n",
              "      <td>19</td>\n",
              "      <td>135</td>\n",
              "      <td>1297</td>\n",
              "      <td>0.141</td>\n",
              "      <td>0.133</td>\n",
              "      <td>0.181</td>\n",
              "      <td>0.059</td>\n",
              "    </tr>\n",
              "  </tbody>\n",
              "</table>\n",
              "</div>"
            ],
            "text/plain": [
              "  diagnosis_result  radius  texture  ...  compactness  symmetry  fractal_dimension\n",
              "0                M      23       12  ...        0.278     0.242              0.079\n",
              "1                B       9       13  ...        0.079     0.181              0.057\n",
              "2                M      21       27  ...        0.160     0.207              0.060\n",
              "3                M      14       16  ...        0.284     0.260              0.097\n",
              "4                M       9       19  ...        0.133     0.181              0.059\n",
              "\n",
              "[5 rows x 9 columns]"
            ]
          },
          "metadata": {
            "tags": []
          },
          "execution_count": 10
        }
      ]
    },
    {
      "cell_type": "code",
      "metadata": {
        "trusted": true,
        "_uuid": "f05f47ec1176fe84f7651fbd472dc81dc66143a1",
        "id": "SNHIk0MB3x2e"
      },
      "source": [
        "# Diagnosis_result is the most important column for us, Because we'll classify data depending on this column.\n",
        "# We need integers for classification. Therefore, we must convert them from object to integer.\n",
        "Cancer.diagnosis_result = [1 if each == 'M' else 0 for each in Cancer.diagnosis_result]"
      ],
      "execution_count": 12,
      "outputs": []
    },
    {
      "cell_type": "code",
      "metadata": {
        "trusted": true,
        "_uuid": "87b9aaf92ea781bb739f752dfc50a509ce1c013b",
        "id": "zoPerVJl3x2j",
        "outputId": "a2a8a59e-9591-4d6f-f3e4-3db90480e01b",
        "colab": {
          "base_uri": "https://localhost:8080/",
          "height": 54
        }
      },
      "source": [
        "# Let's check it.\n",
        "Cancer.diagnosis_result.value_counts()\n",
        "# And then, we assigned 1 and 0 to M and B. Let's some classification!"
      ],
      "execution_count": 13,
      "outputs": [
        {
          "output_type": "execute_result",
          "data": {
            "text/plain": [
              "0    100\n",
              "Name: diagnosis_result, dtype: int64"
            ]
          },
          "metadata": {
            "tags": []
          },
          "execution_count": 13
        }
      ]
    },
    {
      "cell_type": "code",
      "metadata": {
        "trusted": true,
        "_uuid": "21161b74913379540eba9a143ba7529200e296bb",
        "id": "ZhKHadDS3x2o"
      },
      "source": [
        "# We should assign x and y values for test-train datas split.\n",
        "y = Cancer.diagnosis_result.values\n",
        "x_data = Cancer.drop(['diagnosis_result'],axis=1)"
      ],
      "execution_count": 14,
      "outputs": []
    },
    {
      "cell_type": "code",
      "metadata": {
        "trusted": true,
        "_uuid": "3d040dc3e591b2a30996e614f709980719506e9e",
        "id": "4OOP063B3x2t",
        "outputId": "3e27f309-9045-47ab-c08e-69ab055dc901",
        "colab": {
          "base_uri": "https://localhost:8080/",
          "height": 111
        }
      },
      "source": [
        "# See our values\n",
        "y"
      ],
      "execution_count": 15,
      "outputs": [
        {
          "output_type": "execute_result",
          "data": {
            "text/plain": [
              "array([0, 0, 0, 0, 0, 0, 0, 0, 0, 0, 0, 0, 0, 0, 0, 0, 0, 0, 0, 0, 0, 0,\n",
              "       0, 0, 0, 0, 0, 0, 0, 0, 0, 0, 0, 0, 0, 0, 0, 0, 0, 0, 0, 0, 0, 0,\n",
              "       0, 0, 0, 0, 0, 0, 0, 0, 0, 0, 0, 0, 0, 0, 0, 0, 0, 0, 0, 0, 0, 0,\n",
              "       0, 0, 0, 0, 0, 0, 0, 0, 0, 0, 0, 0, 0, 0, 0, 0, 0, 0, 0, 0, 0, 0,\n",
              "       0, 0, 0, 0, 0, 0, 0, 0, 0, 0, 0, 0])"
            ]
          },
          "metadata": {
            "tags": []
          },
          "execution_count": 15
        }
      ]
    },
    {
      "cell_type": "code",
      "metadata": {
        "trusted": true,
        "_uuid": "17f12e91c50682da8a14a5448517586cfd94f903",
        "id": "WCvWVhQn3x2z",
        "outputId": "ec00f9fe-d111-4ba7-bc70-b95a0d94acb5",
        "colab": {
          "base_uri": "https://localhost:8080/",
          "height": 206
        }
      },
      "source": [
        "x_data.head()"
      ],
      "execution_count": 16,
      "outputs": [
        {
          "output_type": "execute_result",
          "data": {
            "text/html": [
              "<div>\n",
              "<style scoped>\n",
              "    .dataframe tbody tr th:only-of-type {\n",
              "        vertical-align: middle;\n",
              "    }\n",
              "\n",
              "    .dataframe tbody tr th {\n",
              "        vertical-align: top;\n",
              "    }\n",
              "\n",
              "    .dataframe thead th {\n",
              "        text-align: right;\n",
              "    }\n",
              "</style>\n",
              "<table border=\"1\" class=\"dataframe\">\n",
              "  <thead>\n",
              "    <tr style=\"text-align: right;\">\n",
              "      <th></th>\n",
              "      <th>radius</th>\n",
              "      <th>texture</th>\n",
              "      <th>perimeter</th>\n",
              "      <th>area</th>\n",
              "      <th>smoothness</th>\n",
              "      <th>compactness</th>\n",
              "      <th>symmetry</th>\n",
              "      <th>fractal_dimension</th>\n",
              "    </tr>\n",
              "  </thead>\n",
              "  <tbody>\n",
              "    <tr>\n",
              "      <th>0</th>\n",
              "      <td>23</td>\n",
              "      <td>12</td>\n",
              "      <td>151</td>\n",
              "      <td>954</td>\n",
              "      <td>0.143</td>\n",
              "      <td>0.278</td>\n",
              "      <td>0.242</td>\n",
              "      <td>0.079</td>\n",
              "    </tr>\n",
              "    <tr>\n",
              "      <th>1</th>\n",
              "      <td>9</td>\n",
              "      <td>13</td>\n",
              "      <td>133</td>\n",
              "      <td>1326</td>\n",
              "      <td>0.143</td>\n",
              "      <td>0.079</td>\n",
              "      <td>0.181</td>\n",
              "      <td>0.057</td>\n",
              "    </tr>\n",
              "    <tr>\n",
              "      <th>2</th>\n",
              "      <td>21</td>\n",
              "      <td>27</td>\n",
              "      <td>130</td>\n",
              "      <td>1203</td>\n",
              "      <td>0.125</td>\n",
              "      <td>0.160</td>\n",
              "      <td>0.207</td>\n",
              "      <td>0.060</td>\n",
              "    </tr>\n",
              "    <tr>\n",
              "      <th>3</th>\n",
              "      <td>14</td>\n",
              "      <td>16</td>\n",
              "      <td>78</td>\n",
              "      <td>386</td>\n",
              "      <td>0.070</td>\n",
              "      <td>0.284</td>\n",
              "      <td>0.260</td>\n",
              "      <td>0.097</td>\n",
              "    </tr>\n",
              "    <tr>\n",
              "      <th>4</th>\n",
              "      <td>9</td>\n",
              "      <td>19</td>\n",
              "      <td>135</td>\n",
              "      <td>1297</td>\n",
              "      <td>0.141</td>\n",
              "      <td>0.133</td>\n",
              "      <td>0.181</td>\n",
              "      <td>0.059</td>\n",
              "    </tr>\n",
              "  </tbody>\n",
              "</table>\n",
              "</div>"
            ],
            "text/plain": [
              "   radius  texture  perimeter  ...  compactness  symmetry  fractal_dimension\n",
              "0      23       12        151  ...        0.278     0.242              0.079\n",
              "1       9       13        133  ...        0.079     0.181              0.057\n",
              "2      21       27        130  ...        0.160     0.207              0.060\n",
              "3      14       16         78  ...        0.284     0.260              0.097\n",
              "4       9       19        135  ...        0.133     0.181              0.059\n",
              "\n",
              "[5 rows x 8 columns]"
            ]
          },
          "metadata": {
            "tags": []
          },
          "execution_count": 16
        }
      ]
    },
    {
      "cell_type": "code",
      "metadata": {
        "trusted": true,
        "_uuid": "732d8ab954f68af7b0d89eec4fa6789dcdd2d8e6",
        "id": "tbiDZvKi3x22"
      },
      "source": [
        "# Normalization: Normalization means all of the values of data, scale between 0 and 1.\n",
        "from sklearn.preprocessing import MinMaxScaler\n",
        "scaler = MinMaxScaler(feature_range=(0,1))\n",
        "x = scaler.fit_transform(x_data)"
      ],
      "execution_count": null,
      "outputs": []
    },
    {
      "cell_type": "code",
      "metadata": {
        "trusted": true,
        "_uuid": "76764d713cb7aa2c9bd0310d471b539f455fe4d5",
        "id": "yaNHAm0C3x27"
      },
      "source": [
        "x"
      ],
      "execution_count": null,
      "outputs": []
    },
    {
      "cell_type": "code",
      "metadata": {
        "trusted": true,
        "_uuid": "63a63a87d3ce57ae5eba95acacca1b5be355b7f2",
        "id": "w9BB22xK3x2-"
      },
      "source": [
        "# We are ready to split datas as train and test.\n",
        "from sklearn.model_selection import train_test_split\n",
        "x_train, x_test, y_train, y_test = train_test_split(x,y,test_size=0.2,random_state=42)\n",
        "#%40 data will assign as 'Test Datas'\n",
        "method_names=[] # In Conclusion part, I'll try to show you which method gave the best result.\n",
        "method_scores=[]"
      ],
      "execution_count": null,
      "outputs": []
    },
    {
      "cell_type": "code",
      "metadata": {
        "trusted": true,
        "_uuid": "753ff7cdc84f6d495b67a5539f04ea8937e5d780",
        "id": "3-w2NtLS3x3F"
      },
      "source": [
        "# Let's look at new values.\n",
        "x_train"
      ],
      "execution_count": null,
      "outputs": []
    },
    {
      "cell_type": "markdown",
      "metadata": {
        "_uuid": "2c4637886423e06e40c77bc00a5b88f027572c1f",
        "id": "K4X1m5CD3x3I"
      },
      "source": [
        "**And now time to classification!**\n"
      ]
    },
    {
      "cell_type": "code",
      "metadata": {
        "trusted": true,
        "_uuid": "949e0fbc546a778ac9fb85ad065457009d38e27c",
        "id": "4NEXQaDJ3x3J"
      },
      "source": [
        "# Firstly, we start with Logistic Regression\n",
        "from sklearn.linear_model import LogisticRegression\n",
        "log_reg = LogisticRegression()\n",
        "log_reg.fit(x_train, y_train) #Fitting\n",
        "print(\"Logistic Regression Classification Test Accuracy {}\".format(log_reg.score(x_test,y_test)))\n",
        "method_names.append(\"Logistic Reg.\")\n",
        "method_scores.append(log_reg.score(x_test,y_test))\n",
        "\n",
        "#Confusion Matrix\n",
        "y_pred = log_reg.predict(x_test)\n",
        "conf_mat = confusion_matrix(y_test,y_pred)\n",
        "#Visualization Confusion Matrix\n",
        "f, ax = plt.subplots(figsize=(5,5))\n",
        "sns.heatmap(conf_mat,annot=True,linewidths=0.5,linecolor=\"red\",fmt=\".0f\",ax=ax)\n",
        "plt.xlabel(\"Predicted Values\")\n",
        "plt.ylabel(\"True Values\")\n",
        "plt.show()"
      ],
      "execution_count": null,
      "outputs": []
    },
    {
      "cell_type": "code",
      "metadata": {
        "trusted": true,
        "_uuid": "6eb8470d8b5b7e5c44dcc63cd786c326f5be83fc",
        "id": "fmgBFj0h3x3L"
      },
      "source": [
        "# Continue with; KNN Classification!\n",
        "from sklearn.neighbors import KNeighborsClassifier\n",
        "knn = KNeighborsClassifier(n_neighbors=5)  # 5 is optional.\n",
        "knn.fit(x_train,y_train)\n",
        "print(\"Score for Number of Neighbors = 5: {}\".format(knn.score(x_test,y_test)))\n",
        "method_names.append(\"KNN\")\n",
        "method_scores.append(knn.score(x_test,y_test))\n",
        "\n",
        "#Confusion Matrix\n",
        "y_pred = knn.predict(x_test)\n",
        "conf_mat = confusion_matrix(y_test,y_pred)\n",
        "#Visualization Confusion Matrix\n",
        "f, ax = plt.subplots(figsize=(5,5))\n",
        "sns.heatmap(conf_mat,annot=True,linewidths=0.5,linecolor=\"red\",fmt=\".0f\",ax=ax)\n",
        "plt.xlabel(\"Predicted Values\")\n",
        "plt.ylabel(\"True Values\")\n",
        "plt.show()"
      ],
      "execution_count": null,
      "outputs": []
    },
    {
      "cell_type": "code",
      "metadata": {
        "trusted": true,
        "_uuid": "ea5a44d0281f4f34a77c066f0ed12bac885d35cf",
        "id": "Kxd8ZJ7J3x3O"
      },
      "source": [
        "# SVM!\n",
        "from sklearn.svm import SVC\n",
        "svm = SVC(random_state=42)\n",
        "svm.fit(x_train,y_train)\n",
        "print(\"SVM Classification Score is: {}\".format(svm.score(x_test,y_test)))\n",
        "method_names.append(\"SVM\")\n",
        "method_scores.append(svm.score(x_test,y_test))\n",
        "\n",
        "#Confusion Matrix\n",
        "y_pred = svm.predict(x_test)\n",
        "conf_mat = confusion_matrix(y_test,y_pred)\n",
        "#Visualization Confusion Matrix\n",
        "f, ax = plt.subplots(figsize=(5,5))\n",
        "sns.heatmap(conf_mat,annot=True,linewidths=0.5,linecolor=\"red\",fmt=\".0f\",ax=ax)\n",
        "plt.xlabel(\"Predicted Values\")\n",
        "plt.ylabel(\"True Values\")\n",
        "plt.show()"
      ],
      "execution_count": null,
      "outputs": []
    },
    {
      "cell_type": "code",
      "metadata": {
        "trusted": true,
        "_uuid": "19b6321c1b5a18a045dc4e1636e2b368c082769d",
        "id": "hz9L0krV3x3W"
      },
      "source": [
        "# Naive Bayes\n",
        "from sklearn.naive_bayes import GaussianNB\n",
        "naive_bayes = GaussianNB()\n",
        "naive_bayes.fit(x_test,y_test)\n",
        "print(\"Naive Bayes Classification Score: {}\".format(naive_bayes.score(x_test,y_test)))\n",
        "method_names.append(\"Naive Bayes\")\n",
        "method_scores.append(naive_bayes.score(x_test,y_test))\n",
        "\n",
        "#Confusion Matrix\n",
        "y_pred = naive_bayes.predict(x_test)\n",
        "conf_mat = confusion_matrix(y_test,y_pred)\n",
        "#Visualization Confusion Matrix\n",
        "f, ax = plt.subplots(figsize=(5,5))\n",
        "sns.heatmap(conf_mat,annot=True,linewidths=0.5,linecolor=\"red\",fmt=\".0f\",ax=ax)\n",
        "plt.xlabel(\"Predicted Values\")\n",
        "plt.ylabel(\"True Values\")\n",
        "plt.show()"
      ],
      "execution_count": null,
      "outputs": []
    },
    {
      "cell_type": "code",
      "metadata": {
        "trusted": true,
        "_uuid": "51faaac7300e99421c31e7fd635ee977392caa73",
        "id": "s37_JDQv3x3Z"
      },
      "source": [
        "# Decision Tree\n",
        "from sklearn.tree import DecisionTreeClassifier\n",
        "dec_tree = DecisionTreeClassifier()\n",
        "dec_tree.fit(x_train,y_train)\n",
        "print(\"Decision Tree Classification Score: \",dec_tree.score(x_test,y_test))\n",
        "method_names.append(\"Decision Tree\")\n",
        "method_scores.append(dec_tree.score(x_test,y_test))\n",
        "\n",
        "#Confusion Matrix\n",
        "y_pred = dec_tree.predict(x_test)\n",
        "conf_mat = confusion_matrix(y_test,y_pred)\n",
        "#Visualization Confusion Matrix\n",
        "f, ax = plt.subplots(figsize=(5,5))\n",
        "sns.heatmap(conf_mat,annot=True,linewidths=0.5,linecolor=\"red\",fmt=\".0f\",ax=ax)\n",
        "plt.xlabel(\"Predicted Values\")\n",
        "plt.ylabel(\"True Values\")\n",
        "plt.show()"
      ],
      "execution_count": null,
      "outputs": []
    },
    {
      "cell_type": "code",
      "metadata": {
        "trusted": true,
        "_uuid": "4ad7376894ea8ffa78e4765b778993007a387e70",
        "id": "85v7ZHV63x3c"
      },
      "source": [
        "# Random Forest\n",
        "from sklearn.ensemble import RandomForestClassifier\n",
        "rand_forest = RandomForestClassifier(n_estimators=100, random_state=42)\n",
        "rand_forest.fit(x_train,y_train)\n",
        "print(\"Random Forest Classification Score: \",rand_forest.score(x_test,y_test))\n",
        "method_names.append(\"Random Forest\")\n",
        "method_scores.append(rand_forest.score(x_test,y_test))\n",
        "\n",
        "#Confusion Matrix\n",
        "y_pred = rand_forest.predict(x_test)\n",
        "conf_mat = confusion_matrix(y_test,y_pred)\n",
        "#Visualization Confusion Matrix\n",
        "f, ax = plt.subplots(figsize=(5,5))\n",
        "sns.heatmap(conf_mat,annot=True,linewidths=0.5,linecolor=\"red\",fmt=\".0f\",ax=ax)\n",
        "plt.xlabel(\"Predicted Values\")\n",
        "plt.ylabel(\"True Values\")\n",
        "plt.show()"
      ],
      "execution_count": null,
      "outputs": []
    },
    {
      "cell_type": "code",
      "metadata": {
        "trusted": true,
        "_uuid": "d93408822f4b3d162ec6ad75cbaaafbebf663692",
        "id": "LNcKmZyq3x3g"
      },
      "source": [
        "# ANN!\n",
        "from keras.wrappers.scikit_learn import KerasClassifier\n",
        "from sklearn.model_selection import cross_val_score\n",
        "from keras.models import Sequential # initialize neural network library\n",
        "from keras.layers import Dense # build our layers library\n",
        "def build_classifier():\n",
        "    classifier = Sequential() # initialize neural network\n",
        "    classifier.add(Dense(units = 50, kernel_initializer = 'uniform', activation = 'relu', input_dim = x_train.shape[1]))\n",
        "    classifier.add(Dense(units = 10, kernel_initializer = 'uniform', activation = 'relu'))\n",
        "    classifier.add(Dense(units = 1, kernel_initializer = 'uniform', activation = 'sigmoid'))\n",
        "    classifier.compile(optimizer = 'adam', loss = 'binary_crossentropy', metrics = ['accuracy'])\n",
        "    return classifier\n",
        "classifier = KerasClassifier(build_fn = build_classifier, epochs = 200)\n",
        "accuracies = cross_val_score(estimator = classifier, X = x_train, y = y_train, cv = 3)\n",
        "mean = accuracies.mean()\n",
        "variance = accuracies.std()\n",
        "print(\"Accuracy mean: \"+ str(mean))\n",
        "print(\"Accuracy variance: \"+ str(variance))"
      ],
      "execution_count": null,
      "outputs": []
    },
    {
      "cell_type": "code",
      "metadata": {
        "trusted": true,
        "_uuid": "b708053280ccbc39ca8dd9f8a52aebb4355c0d19",
        "id": "vpvcXvyj3x3n"
      },
      "source": [
        "method_names.append(\"ANN\")\n",
        "method_scores.append(0.851)"
      ],
      "execution_count": null,
      "outputs": []
    },
    {
      "cell_type": "code",
      "metadata": {
        "trusted": true,
        "_uuid": "9a68eec281f6f88ff2548e94935305d9d904b47a",
        "id": "q7dXume23x3r"
      },
      "source": [
        "trainX = np.reshape(x_train, (x_train.shape[0], x_train.shape[1],1))\n",
        "testX = np.reshape(x_test, (x_test.shape[0],x_test.shape[1],1))\n",
        "# Print and check shapes\n",
        "print(\"Shape of trainX is {}\".format(trainX.shape))\n",
        "print(\"Shape of testX is {}\".format(testX.shape))"
      ],
      "execution_count": null,
      "outputs": []
    },
    {
      "cell_type": "code",
      "metadata": {
        "trusted": true,
        "_uuid": "bd120115b813ce73a5667d7dbe3123965e799cf4",
        "id": "r2VRSF2U3x3u"
      },
      "source": [
        "from keras.layers import Dense, SimpleRNN, Dropout\n",
        "from keras.metrics import mean_squared_error\n",
        "from keras.models import Sequential\n",
        "model = Sequential()\n",
        "# Add the first layer and Dropout regularization\n",
        "model.add(SimpleRNN(units=100,activation='tanh',return_sequences=True, \n",
        "                    input_shape=(trainX.shape[1],1)))\n",
        "model.add(Dropout(0.20))\n",
        "# Second layer and Dropout regularization\n",
        "model.add(SimpleRNN(units = 100, activation='tanh',return_sequences=True))\n",
        "model.add(Dropout(0.20))\n",
        "# Third layer and Dropout regularization\n",
        "model.add(SimpleRNN(units = 70, activation='tanh', return_sequences= True))\n",
        "model.add(Dropout(0.20))\n",
        "# Fourth layer and Dropout regularization\n",
        "model.add(SimpleRNN(units = 50))\n",
        "model.add(Dropout(0.20))\n",
        "# Add final or output layer\n",
        "model.add(Dense(units=1))\n",
        "\n",
        "# Compile our RNN model\n",
        "model.compile(optimizer = 'adam', loss = 'mean_squared_error',metrics = ['accuracy'])\n",
        "# Fitting the RNN to the training set\n",
        "model.fit(trainX, y_train, epochs = 200, batch_size=32)\n",
        "# Remember; epochs, batch_size etc. are just some of hyper parameters. \n",
        "# You can change these parameters whatever you want\n",
        "mean = accuracies.mean()\n",
        "variance = accuracies.std()\n",
        "print(\"Accuracy mean: \"+ str(mean))\n",
        "print(\"Accuracy variance: \"+ str(variance))"
      ],
      "execution_count": null,
      "outputs": []
    },
    {
      "cell_type": "code",
      "metadata": {
        "trusted": true,
        "_uuid": "6b90913a8a1a728d6f6d500ac683417af7b6a370",
        "id": "m_hfsZkc3x3y"
      },
      "source": [
        "method_names.append(\"RNN\")\n",
        "method_scores.append(0.887)"
      ],
      "execution_count": null,
      "outputs": []
    },
    {
      "cell_type": "markdown",
      "metadata": {
        "_uuid": "89fae4f677c7d6638e95f040fea61aae7e3493f8",
        "id": "ziYv_82f3x33"
      },
      "source": [
        "**CONCLUSION**\n",
        "\n",
        "We've already completed to train our data with a lot of different method. Let's look which method is given the best result to us!\n"
      ]
    },
    {
      "cell_type": "code",
      "metadata": {
        "trusted": true,
        "_uuid": "af35e768076f7018e68d2d191ffb12e64d7fef06",
        "id": "HBhCSSC33x34"
      },
      "source": [
        "plt.figure(figsize=(15,10))\n",
        "plt.ylim([0.60,0.90])\n",
        "plt.bar(method_names,method_scores,width=0.5)\n",
        "plt.xlabel('Method Name')\n",
        "plt.ylabel('Method Score')"
      ],
      "execution_count": null,
      "outputs": []
    },
    {
      "cell_type": "markdown",
      "metadata": {
        "trusted": true,
        "_uuid": "c7174b5604b31c95b8d6fc16205719b3cce83e02",
        "id": "mgBXbjfd3x38"
      },
      "source": [
        "As we can see easily; RNN gave us the best result! I hope you learned something like I did. Please comment me!"
      ]
    },
    {
      "cell_type": "code",
      "metadata": {
        "trusted": true,
        "_uuid": "0ded5dd1b51582fdb1027bd24ca3ca6fb74c0b45",
        "id": "03-eTwsr3x38"
      },
      "source": [
        ""
      ],
      "execution_count": null,
      "outputs": []
    }
  ]
}